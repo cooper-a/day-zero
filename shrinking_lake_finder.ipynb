{
 "cells": [
  {
   "cell_type": "code",
   "execution_count": 1,
   "metadata": {},
   "outputs": [],
   "source": [
    "from PIL import Image\n",
    "Image.MAX_IMAGE_PIXELS = None\n",
    "im = Image.open('chad/1985.jpg')\n"
   ]
  },
  {
   "cell_type": "code",
   "execution_count": 2,
   "metadata": {},
   "outputs": [],
   "source": [
    "import os\n",
    "import numpy as np\n",
    "import pandas as pd\n",
    "import matplotlib.pyplot as plt"
   ]
  },
  {
   "cell_type": "code",
   "execution_count": 3,
   "metadata": {},
   "outputs": [],
   "source": [
    "import os\n",
    "sat_images = {}\n",
    "years = []\n",
    "\n",
    "for filename in os.listdir('chad/'):\n",
    "    if filename.endswith(\".jpg\"):\n",
    "        sat_images[filename] = Image.open('chad/' + filename)\n",
    "        years.append(filename[:-4])"
   ]
  },
  {
   "cell_type": "code",
   "execution_count": 1,
   "metadata": {},
   "outputs": [],
   "source": [
    "#sat_images"
   ]
  },
  {
   "cell_type": "code",
   "execution_count": 2,
   "metadata": {},
   "outputs": [],
   "source": [
    "def get_water(sat_images):\n",
    "    yearly_lake_size = []\n",
    "    \n",
    "    for year in sat_images:\n",
    "        lake_size = 0\n",
    "        im_array = np.array(sat_images[year])\n",
    "    \n",
    "        sh = im_array.shape\n",
    "        y_cent = int(sh[0] / 2)\n",
    "        x_cent = int(sh[1] / 2)\n",
    "               \n",
    "        ref_pix1 = im_array[y_cent][x_cent]\n",
    "    \n",
    "        ref_pix2 = im_array[y_cent + 100][x_cent + 100]\n",
    "    \n",
    "        ref_pix3 = im_array[y_cent + 100][x_cent - 100]\n",
    "\n",
    "    \n",
    "        refs = [ref_pix1, ref_pix2, ref_pix3]\n",
    "\n",
    "        min_r = 255\n",
    "        min_g = 255\n",
    "        min_b = 255\n",
    "    \n",
    "        max_r = 0\n",
    "        max_g = 0\n",
    "        max_b = 0\n",
    "    \n",
    "        for ref in refs:\n",
    "            if ref[0] < min_r:\n",
    "                min_r = ref[0] - 10\n",
    "        \n",
    "            if ref[1] < min_g:\n",
    "                min_g = ref[1] - 10\n",
    "        \n",
    "            if ref[2] < min_b:\n",
    "                min_b = ref[2] - 10\n",
    "            \n",
    "            if ref[0] > max_r:\n",
    "                max_r = ref[0] + 10\n",
    "        \n",
    "            if ref[1] > max_g:\n",
    "                max_g = ref[1] + 10\n",
    "        \n",
    "            if ref[2] > max_b:\n",
    "                max_b = ref[2] + 10\n",
    "            \n",
    "        for row in im_array:\n",
    "            for pixel in row:\n",
    "                if pixel[2] <= max_b and pixel[2] >= min_b and pixel[0] >= min_r and pixel[0] <= max_r and pixel[1] >= min_g and pixel[1] <= max_g:\n",
    "                    lake_size += 1\n",
    "                    pixel[0] = 0\n",
    "                    pixel[1] = 0\n",
    "                    pixel[2] = 245\n",
    "                \n",
    "        yearly_lake_size.append(lake_size)\n",
    "        \n",
    "        im = Image.fromarray(im_array)\n",
    "        im.save(year + \"processed.jpg\")"
   ]
  },
  {
   "cell_type": "code",
   "execution_count": 6,
   "metadata": {},
   "outputs": [
    {
     "name": "stdout",
     "output_type": "stream",
     "text": [
      "(3251, 4800, 3)\n"
     ]
    }
   ],
   "source": [
    "year = \"2000.jpg\"\n",
    "im_array = np.array(sat_images[year])\n",
    "print(im_array.shape)"
   ]
  },
  {
   "cell_type": "code",
   "execution_count": null,
   "metadata": {},
   "outputs": [],
   "source": [
    "yearly_lake_size = get_water(sat_images)"
   ]
  },
  {
   "cell_type": "code",
   "execution_count": 19,
   "metadata": {},
   "outputs": [],
   "source": [
    "df = pd.DataFrame(years[:-1], columns = ['year'])\n",
    "df['water_pixels'] = np.array(yearly_water_pix)\n",
    "df = df.sort_values(by=['year'])"
   ]
  },
  {
   "cell_type": "code",
   "execution_count": null,
   "metadata": {},
   "outputs": [],
   "source": [
    "plt.figure(figsize=(20, 8))\n",
    "\n",
    "plt.plot(df['year'], df['water_pixels'])\n",
    "plt.ylabel(\"Size of lake\")\n",
    "plt.show()"
   ]
  }
 ],
 "metadata": {
  "kernelspec": {
   "display_name": "Python 3",
   "language": "python",
   "name": "python3"
  },
  "language_info": {
   "codemirror_mode": {
    "name": "ipython",
    "version": 3
   },
   "file_extension": ".py",
   "mimetype": "text/x-python",
   "name": "python",
   "nbconvert_exporter": "python",
   "pygments_lexer": "ipython3",
   "version": "3.6.5"
  }
 },
 "nbformat": 4,
 "nbformat_minor": 2
}
