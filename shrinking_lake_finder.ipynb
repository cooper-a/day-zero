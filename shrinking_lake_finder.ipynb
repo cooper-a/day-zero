{
 "cells": [
  {
   "cell_type": "code",
   "execution_count": 1,
   "metadata": {},
   "outputs": [],
   "source": [
    "from PIL import Image\n",
    "Image.MAX_IMAGE_PIXELS = None\n",
    "im = Image.open('chad/1985.jpg')\n"
   ]
  },
  {
   "cell_type": "code",
   "execution_count": 2,
   "metadata": {},
   "outputs": [],
   "source": [
    "import os\n",
    "import numpy as np"
   ]
  },
  {
   "cell_type": "code",
   "execution_count": 3,
   "metadata": {},
   "outputs": [],
   "source": [
    "import os\n",
    "sat_images = {}\n",
    "\n",
    "for filename in os.listdir('chad/'):\n",
    "    if filename.endswith(\".jpg\"):\n",
    "        sat_images[filename] = Image.open('chad/' + filename)"
   ]
  },
  {
   "cell_type": "code",
   "execution_count": 4,
   "metadata": {},
   "outputs": [
    {
     "data": {
      "text/plain": [
       "{'1984.jpg': <PIL.JpegImagePlugin.JpegImageFile image mode=RGB size=4800x3251 at 0x1B12F1DD0B8>,\n",
       " '1985.jpg': <PIL.JpegImagePlugin.JpegImageFile image mode=RGB size=4800x3251 at 0x1B12F1DD0F0>,\n",
       " '1986.jpg': <PIL.JpegImagePlugin.JpegImageFile image mode=RGB size=4800x3251 at 0x1B12F1DD160>,\n",
       " '1987.jpg': <PIL.JpegImagePlugin.JpegImageFile image mode=RGB size=4800x3251 at 0x1B12F1DD1D0>,\n",
       " '1988.jpg': <PIL.JpegImagePlugin.JpegImageFile image mode=RGB size=4800x3251 at 0x1B12F1DD080>,\n",
       " '1989.jpg': <PIL.JpegImagePlugin.JpegImageFile image mode=RGB size=4800x3251 at 0x1B12F1DD278>,\n",
       " '1990.jpg': <PIL.JpegImagePlugin.JpegImageFile image mode=RGB size=4800x3251 at 0x1B12F1DD2E8>,\n",
       " '1991.jpg': <PIL.JpegImagePlugin.JpegImageFile image mode=RGB size=4800x3251 at 0x1B12F1DD358>,\n",
       " '1992.jpg': <PIL.JpegImagePlugin.JpegImageFile image mode=RGB size=4800x3251 at 0x1B12F1DD3C8>,\n",
       " '1993.jpg': <PIL.JpegImagePlugin.JpegImageFile image mode=RGB size=4800x3251 at 0x1B12F1DD438>,\n",
       " '1994.jpg': <PIL.JpegImagePlugin.JpegImageFile image mode=RGB size=4800x3251 at 0x1B12F1DD4A8>,\n",
       " '1995.jpg': <PIL.JpegImagePlugin.JpegImageFile image mode=RGB size=4800x3251 at 0x1B12F1DD518>,\n",
       " '1996.jpg': <PIL.JpegImagePlugin.JpegImageFile image mode=RGB size=4800x3251 at 0x1B12F1DD588>,\n",
       " '1997.jpg': <PIL.JpegImagePlugin.JpegImageFile image mode=RGB size=4800x3251 at 0x1B12F1DD5F8>,\n",
       " '1999.jpg': <PIL.JpegImagePlugin.JpegImageFile image mode=RGB size=4800x3251 at 0x1B12F1DD668>,\n",
       " '2000.jpg': <PIL.JpegImagePlugin.JpegImageFile image mode=RGB size=4800x3251 at 0x1B12F1DD6D8>,\n",
       " '2001.jpg': <PIL.JpegImagePlugin.JpegImageFile image mode=RGB size=4800x3251 at 0x1B12F1DD748>,\n",
       " '2002.jpg': <PIL.JpegImagePlugin.JpegImageFile image mode=RGB size=4800x3251 at 0x1B12F1DD7B8>,\n",
       " '2003.jpg': <PIL.JpegImagePlugin.JpegImageFile image mode=RGB size=4800x3251 at 0x1B12F1DD828>,\n",
       " '2004.jpg': <PIL.JpegImagePlugin.JpegImageFile image mode=RGB size=4800x3251 at 0x1B12F1DD898>,\n",
       " '2005.jpg': <PIL.JpegImagePlugin.JpegImageFile image mode=RGB size=4800x3251 at 0x1B12F1DD908>,\n",
       " '2006.jpg': <PIL.JpegImagePlugin.JpegImageFile image mode=RGB size=4800x3251 at 0x1B12F1DD978>,\n",
       " '2007.jpg': <PIL.JpegImagePlugin.JpegImageFile image mode=RGB size=4800x3251 at 0x1B12F1DD9E8>,\n",
       " '2008.jpg': <PIL.JpegImagePlugin.JpegImageFile image mode=RGB size=4800x3251 at 0x1B12F1DDA58>,\n",
       " '2009.jpg': <PIL.JpegImagePlugin.JpegImageFile image mode=RGB size=4800x3251 at 0x1B12F1DDAC8>,\n",
       " '2010.jpg': <PIL.JpegImagePlugin.JpegImageFile image mode=RGB size=4800x3251 at 0x1B12F1DDB38>,\n",
       " '2011.jpg': <PIL.JpegImagePlugin.JpegImageFile image mode=RGB size=4800x3251 at 0x1B12F1DDBA8>,\n",
       " '2012.jpg': <PIL.JpegImagePlugin.JpegImageFile image mode=RGB size=4800x3251 at 0x1B12F1DDC18>,\n",
       " '2013.jpg': <PIL.JpegImagePlugin.JpegImageFile image mode=RGB size=4800x3251 at 0x1B12F1DDC88>,\n",
       " '2014.jpg': <PIL.JpegImagePlugin.JpegImageFile image mode=RGB size=4800x3251 at 0x1B12F1DDCF8>,\n",
       " '2015.jpg': <PIL.JpegImagePlugin.JpegImageFile image mode=RGB size=4800x3251 at 0x1B12F1DDD68>,\n",
       " '2016.jpg': <PIL.JpegImagePlugin.JpegImageFile image mode=RGB size=4800x3251 at 0x1B12F1DDDD8>}"
      ]
     },
     "execution_count": 4,
     "metadata": {},
     "output_type": "execute_result"
    }
   ],
   "source": [
    "sat_images"
   ]
  },
  {
   "cell_type": "code",
   "execution_count": 5,
   "metadata": {},
   "outputs": [],
   "source": [
    "\n",
    "def get_water(sat_images):\n",
    "    for year in sat_images:\n",
    "        im_array = np.array(sat_images[year])\n",
    "    \n",
    "        sh = im_array.shape\n",
    "        y_cent = int(sh[0] / 2)\n",
    "        x_cent = int(sh[1] / 2)\n",
    "               \n",
    "        ref_pix1 = im_array[y_cent][x_cent]\n",
    "    \n",
    "        ref_pix2 = im_array[y_cent + 100][x_cent + 100]\n",
    "    \n",
    "        ref_pix3 = im_array[y_cent + 100][x_cent - 100]\n",
    "\n",
    "    \n",
    "        refs = [ref_pix1, ref_pix2, ref_pix3]\n",
    "\n",
    "        min_r = 255\n",
    "        min_g = 255\n",
    "        min_b = 255\n",
    "    \n",
    "        max_r = 0\n",
    "        max_g = 0\n",
    "        max_b = 0\n",
    "    \n",
    "        for ref in refs:\n",
    "            if ref[0] < min_r:\n",
    "                min_r = ref[0] - 10\n",
    "        \n",
    "            if ref[1] < min_g:\n",
    "                min_g = ref[1] - 10\n",
    "        \n",
    "            if ref[2] < min_b:\n",
    "                min_b = ref[2] - 10\n",
    "            \n",
    "            if ref[0] > max_r:\n",
    "                max_r = ref[0] + 10\n",
    "        \n",
    "            if ref[1] > max_g:\n",
    "                max_g = ref[1] + 10\n",
    "        \n",
    "            if ref[2] > max_b:\n",
    "                max_b = ref[2] + 10\n",
    "            \n",
    "        for row in im_array:\n",
    "            for pixel in row:\n",
    "                if pixel[2] <= max_b and pixel[2] >= min_b and pixel[0] >= min_r and pixel[0] <= max_r and pixel[1] >= min_g and pixel[1] <= max_g:\n",
    "                    pixel[0] = 0\n",
    "                    pixel[1] = 0\n",
    "                    pixel[2] = 245\n",
    "                \n",
    "    \n",
    "    im = Image.fromarray(im_array)\n",
    "    im.save(year + \"processed.jpg\")"
   ]
  },
  {
   "cell_type": "code",
   "execution_count": 6,
   "metadata": {},
   "outputs": [
    {
     "name": "stdout",
     "output_type": "stream",
     "text": [
      "(3251, 4800, 3)\n"
     ]
    }
   ],
   "source": [
    "year = \"2000.jpg\"\n",
    "im_array = np.array(sat_images[year])\n",
    "print(im_array.shape)"
   ]
  },
  {
   "cell_type": "code",
   "execution_count": null,
   "metadata": {},
   "outputs": [],
   "source": [
    "get_water(sat_images)\n",
    "\n",
    "\n",
    "\n",
    "\n",
    "\n",
    "\n",
    "\n",
    "\n"
   ]
  },
  {
   "cell_type": "code",
   "execution_count": 19,
   "metadata": {},
   "outputs": [],
   "source": [
    "\n",
    "        "
   ]
  },
  {
   "cell_type": "code",
   "execution_count": null,
   "metadata": {},
   "outputs": [],
   "source": []
  }
 ],
 "metadata": {
  "kernelspec": {
   "display_name": "Python 3",
   "language": "python",
   "name": "python3"
  },
  "language_info": {
   "codemirror_mode": {
    "name": "ipython",
    "version": 3
   },
   "file_extension": ".py",
   "mimetype": "text/x-python",
   "name": "python",
   "nbconvert_exporter": "python",
   "pygments_lexer": "ipython3",
   "version": "3.7.1"
  }
 },
 "nbformat": 4,
 "nbformat_minor": 2
}
