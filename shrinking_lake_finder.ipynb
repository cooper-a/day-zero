{
 "cells": [
  {
   "cell_type": "code",
   "execution_count": 22,
   "metadata": {},
   "outputs": [],
   "source": [
    "from PIL import Image\n",
    "Image.MAX_IMAGE_PIXELS = None\n",
    "im = Image.open('chad/1985.jpg')\n",
    "im.show()"
   ]
  },
  {
   "cell_type": "code",
   "execution_count": 6,
   "metadata": {},
   "outputs": [],
   "source": [
    "import os\n",
    "import numpy"
   ]
  },
  {
   "cell_type": "code",
   "execution_count": 8,
   "metadata": {},
   "outputs": [],
   "source": [
    "import os\n",
    "sat_images = []\n",
    "\n",
    "for filename in os.listdir('chad/'):\n",
    "    if filename.endswith(\".jpg\"):\n",
    "        sat_images.append(Image.open('chad/' + filename))"
   ]
  },
  {
   "cell_type": "code",
   "execution_count": 11,
   "metadata": {},
   "outputs": [],
   "source": [
    "imarray = numpy.array(im)"
   ]
  },
  {
   "cell_type": "code",
   "execution_count": 25,
   "metadata": {},
   "outputs": [
    {
     "data": {
      "text/plain": [
       "array([[[155, 146, 115],\n",
       "        [144, 137, 108],\n",
       "        [142, 135, 107],\n",
       "        ...,\n",
       "        [ 93,  94,  88],\n",
       "        [ 96,  97,  92],\n",
       "        [ 88,  90,  87]],\n",
       "\n",
       "       [[155, 148, 119],\n",
       "        [146, 139, 110],\n",
       "        [145, 138, 110],\n",
       "        ...,\n",
       "        [ 86,  88,  83],\n",
       "        [ 93,  95,  90],\n",
       "        [ 91,  93,  88]],\n",
       "\n",
       "       [[157, 150, 121],\n",
       "        [148, 141, 113],\n",
       "        [147, 140, 112],\n",
       "        ...,\n",
       "        [ 84,  89,  83],\n",
       "        [ 90,  95,  89],\n",
       "        [ 90,  95,  89]],\n",
       "\n",
       "       ...,\n",
       "\n",
       "       [[109, 105,  93],\n",
       "        [109, 105,  93],\n",
       "        [109, 105,  93],\n",
       "        ...,\n",
       "        [180, 164, 149],\n",
       "        [178, 162, 147],\n",
       "        [176, 160, 145]],\n",
       "\n",
       "       [[111, 107,  95],\n",
       "        [113, 109,  97],\n",
       "        [114, 110,  98],\n",
       "        ...,\n",
       "        [173, 157, 142],\n",
       "        [171, 155, 140],\n",
       "        [171, 155, 140]],\n",
       "\n",
       "       [[113, 109,  97],\n",
       "        [114, 110,  98],\n",
       "        [114, 110,  98],\n",
       "        ...,\n",
       "        [161, 145, 130],\n",
       "        [156, 140, 125],\n",
       "        [160, 144, 129]]], dtype=uint8)"
      ]
     },
     "execution_count": 25,
     "metadata": {},
     "output_type": "execute_result"
    }
   ],
   "source": [
    "\n",
    "\n",
    "for row in imarray:\n",
    "    for pixel in row:\n",
    "        "
   ]
  },
  {
   "cell_type": "code",
   "execution_count": null,
   "metadata": {},
   "outputs": [],
   "source": []
  }
 ],
 "metadata": {
  "kernelspec": {
   "display_name": "Python 3",
   "language": "python",
   "name": "python3"
  },
  "language_info": {
   "codemirror_mode": {
    "name": "ipython",
    "version": 3
   },
   "file_extension": ".py",
   "mimetype": "text/x-python",
   "name": "python",
   "nbconvert_exporter": "python",
   "pygments_lexer": "ipython3",
   "version": "3.6.5"
  }
 },
 "nbformat": 4,
 "nbformat_minor": 2
}
