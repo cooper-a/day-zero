{
 "cells": [
  {
   "cell_type": "code",
   "execution_count": 1,
   "metadata": {},
   "outputs": [],
   "source": [
    "from PIL import Image\n",
    "Image.MAX_IMAGE_PIXELS = None\n",
    "im = Image.open('chad/1985.jpg')\n",
    "im.show()"
   ]
  },
  {
   "cell_type": "code",
   "execution_count": 2,
   "metadata": {},
   "outputs": [],
   "source": [
    "import os\n",
    "import numpy as np"
   ]
  },
  {
   "cell_type": "code",
   "execution_count": 3,
   "metadata": {},
   "outputs": [],
   "source": [
    "import os\n",
    "sat_images = {}\n",
    "\n",
    "for filename in os.listdir('chad/'):\n",
    "    if filename.endswith(\".jpg\"):\n",
    "        sat_images[filename] = Image.open('chad/' + filename)"
   ]
  },
  {
   "cell_type": "code",
   "execution_count": 46,
   "metadata": {},
   "outputs": [
    {
     "data": {
      "text/plain": [
       "{'1999.jpg': <PIL.JpegImagePlugin.JpegImageFile image mode=RGB size=4800x3251 at 0x112B0E240>,\n",
       " '1989.jpg': <PIL.JpegImagePlugin.JpegImageFile image mode=RGB size=4800x3251 at 0x112B0E2B0>,\n",
       " '1988.jpg': <PIL.JpegImagePlugin.JpegImageFile image mode=RGB size=4800x3251 at 0x112B0E320>,\n",
       " '2003.jpg': <PIL.JpegImagePlugin.JpegImageFile image mode=RGB size=4800x3251 at 0x112B0E390>,\n",
       " '2002.jpg': <PIL.JpegImagePlugin.JpegImageFile image mode=RGB size=4800x3251 at 0x112B0E400>,\n",
       " '2016.jpg': <PIL.JpegImagePlugin.JpegImageFile image mode=RGB size=4800x3251 at 0x112B0E198>,\n",
       " '2000.jpg': <PIL.JpegImagePlugin.JpegImageFile image mode=RGB size=4800x3251 at 0x112B0E470>,\n",
       " '2014.jpg': <PIL.JpegImagePlugin.JpegImageFile image mode=RGB size=4800x3251 at 0x112B0E4E0>,\n",
       " '2015.jpg': <PIL.JpegImagePlugin.JpegImageFile image mode=RGB size=4800x3251 at 0x112B0E550>,\n",
       " '2001.jpg': <PIL.JpegImagePlugin.JpegImageFile image mode=RGB size=4800x3251 at 0x112B0E5C0>,\n",
       " '2005.jpg': <PIL.JpegImagePlugin.JpegImageFile image mode=RGB size=4800x3251 at 0x112B0E630>,\n",
       " '2011.jpg': <PIL.JpegImagePlugin.JpegImageFile image mode=RGB size=4800x3251 at 0x112B0E6A0>,\n",
       " '2010.jpg': <PIL.JpegImagePlugin.JpegImageFile image mode=RGB size=4800x3251 at 0x112B0E710>,\n",
       " '2004.jpg': <PIL.JpegImagePlugin.JpegImageFile image mode=RGB size=4800x3251 at 0x112B0E780>,\n",
       " '2012.jpg': <PIL.JpegImagePlugin.JpegImageFile image mode=RGB size=4800x3251 at 0x112B24B38>,\n",
       " '2006.jpg': <PIL.JpegImagePlugin.JpegImageFile image mode=RGB size=4800x3251 at 0x112B24DA0>,\n",
       " '2007.jpg': <PIL.JpegImagePlugin.JpegImageFile image mode=RGB size=4800x3251 at 0x112B249E8>,\n",
       " '2013.jpg': <PIL.JpegImagePlugin.JpegImageFile image mode=RGB size=4800x3251 at 0x112B24D68>,\n",
       " '2009.jpg': <PIL.JpegImagePlugin.JpegImageFile image mode=RGB size=4800x3251 at 0x112B24BA8>,\n",
       " '2008.jpg': <PIL.JpegImagePlugin.JpegImageFile image mode=RGB size=4800x3251 at 0x112B24B70>,\n",
       " '1986.jpg': <PIL.JpegImagePlugin.JpegImageFile image mode=RGB size=4800x3251 at 0x112B24A90>,\n",
       " '1992.jpg': <PIL.JpegImagePlugin.JpegImageFile image mode=RGB size=4800x3251 at 0x112B24A20>,\n",
       " '1993.jpg': <PIL.JpegImagePlugin.JpegImageFile image mode=RGB size=4800x3251 at 0x112B24E80>,\n",
       " '1987.jpg': <PIL.JpegImagePlugin.JpegImageFile image mode=RGB size=4800x3251 at 0x112B24E48>,\n",
       " '1991.jpg': <PIL.JpegImagePlugin.JpegImageFile image mode=RGB size=4800x3251 at 0x112B24F60>,\n",
       " '1985.jpg': <PIL.JpegImagePlugin.JpegImageFile image mode=RGB size=4800x3251 at 0x112B24F98>,\n",
       " '1984.jpg': <PIL.JpegImagePlugin.JpegImageFile image mode=RGB size=4800x3251 at 0x112B24CF8>,\n",
       " '1990.jpg': <PIL.JpegImagePlugin.JpegImageFile image mode=RGB size=4800x3251 at 0x112B24C50>,\n",
       " '1994.jpg': <PIL.JpegImagePlugin.JpegImageFile image mode=RGB size=4800x3251 at 0x112B24DD8>,\n",
       " '1995.jpg': <PIL.JpegImagePlugin.JpegImageFile image mode=RGB size=4800x3251 at 0x112B24908>,\n",
       " '1997.jpg': <PIL.JpegImagePlugin.JpegImageFile image mode=RGB size=4800x3251 at 0x112B24860>,\n",
       " '1996.jpg': <PIL.JpegImagePlugin.JpegImageFile image mode=RGB size=4800x3251 at 0x112B24898>}"
      ]
     },
     "execution_count": 46,
     "metadata": {},
     "output_type": "execute_result"
    }
   ],
   "source": [
    "sat_images"
   ]
  },
  {
   "cell_type": "code",
   "execution_count": 48,
   "metadata": {},
   "outputs": [
    {
     "ename": "TypeError",
     "evalue": "iteration over a 0-d array",
     "output_type": "error",
     "traceback": [
      "\u001b[0;31m---------------------------------------------------------------------------\u001b[0m",
      "\u001b[0;31mTypeError\u001b[0m                                 Traceback (most recent call last)",
      "\u001b[0;32m<ipython-input-48-f1b16df2e296>\u001b[0m in \u001b[0;36m<module>\u001b[0;34m()\u001b[0m\n\u001b[1;32m      1\u001b[0m \u001b[0;32mfor\u001b[0m \u001b[0myear\u001b[0m \u001b[0;32min\u001b[0m \u001b[0msat_images\u001b[0m\u001b[0;34m:\u001b[0m\u001b[0;34m\u001b[0m\u001b[0m\n\u001b[1;32m      2\u001b[0m     \u001b[0mim_array\u001b[0m \u001b[0;34m=\u001b[0m \u001b[0mnp\u001b[0m\u001b[0;34m.\u001b[0m\u001b[0marray\u001b[0m\u001b[0;34m(\u001b[0m\u001b[0msat_images\u001b[0m\u001b[0;34m[\u001b[0m\u001b[0myear\u001b[0m\u001b[0;34m]\u001b[0m\u001b[0;34m)\u001b[0m\u001b[0;34m\u001b[0m\u001b[0m\n\u001b[0;32m----> 3\u001b[0;31m     \u001b[0;32mfor\u001b[0m \u001b[0mrow\u001b[0m \u001b[0;32min\u001b[0m \u001b[0mim_array\u001b[0m\u001b[0;34m:\u001b[0m\u001b[0;34m\u001b[0m\u001b[0m\n\u001b[0m\u001b[1;32m      4\u001b[0m         \u001b[0;32mfor\u001b[0m \u001b[0mpixel\u001b[0m \u001b[0;32min\u001b[0m \u001b[0mrow\u001b[0m\u001b[0;34m:\u001b[0m\u001b[0;34m\u001b[0m\u001b[0m\n\u001b[1;32m      5\u001b[0m             \u001b[0;32mif\u001b[0m \u001b[0mpixel\u001b[0m\u001b[0;34m[\u001b[0m\u001b[0;36m2\u001b[0m\u001b[0;34m]\u001b[0m \u001b[0;34m<\u001b[0m \u001b[0;36m125\u001b[0m \u001b[0;32mand\u001b[0m \u001b[0mpixel\u001b[0m\u001b[0;34m[\u001b[0m\u001b[0;36m2\u001b[0m\u001b[0;34m]\u001b[0m \u001b[0;34m>\u001b[0m \u001b[0;36m105\u001b[0m \u001b[0;32mand\u001b[0m \u001b[0mpixel\u001b[0m\u001b[0;34m[\u001b[0m\u001b[0;36m0\u001b[0m\u001b[0;34m]\u001b[0m \u001b[0;34m>\u001b[0m \u001b[0;36m115\u001b[0m \u001b[0;32mand\u001b[0m \u001b[0mpixel\u001b[0m\u001b[0;34m[\u001b[0m\u001b[0;36m0\u001b[0m\u001b[0;34m]\u001b[0m \u001b[0;34m<\u001b[0m \u001b[0;36m150\u001b[0m \u001b[0;32mand\u001b[0m \u001b[0mpixel\u001b[0m\u001b[0;34m[\u001b[0m\u001b[0;36m1\u001b[0m\u001b[0;34m]\u001b[0m \u001b[0;34m>\u001b[0m \u001b[0;36m115\u001b[0m \u001b[0;32mand\u001b[0m \u001b[0mpixel\u001b[0m\u001b[0;34m[\u001b[0m\u001b[0;36m1\u001b[0m\u001b[0;34m]\u001b[0m \u001b[0;34m<\u001b[0m \u001b[0;36m150\u001b[0m\u001b[0;34m:\u001b[0m\u001b[0;34m\u001b[0m\u001b[0m\n",
      "\u001b[0;31mTypeError\u001b[0m: iteration over a 0-d array"
     ]
    }
   ],
   "source": [
    "\n",
    "def get_water(sat_images):\n",
    "    for year in sat_images:\n",
    "        im_array = np.array(sat_images[year])\n",
    "    \n",
    "        sh = im_array.shape()\n",
    "        y_cent = int(sh[0] / 2)\n",
    "        x_cent = int(sh[1] / 2)\n",
    "               \n",
    "        ref_pix1 = im_array[y_cent][x_cent]\n",
    "    \n",
    "        ref_pix2 = im_array[y_cent + 50][x_cent + 50]\n",
    "    \n",
    "        ref_pix3 = im_array[y_cent + 50][x_cent - 50]\n",
    "    \n",
    "        refs = []\n",
    "    \n",
    "        refs.append(ref_pix1, ref_pix2, ref_pix3)\n",
    "\n",
    "        min_r = 255\n",
    "        min_g = 255\n",
    "        min_b = 255\n",
    "    \n",
    "        max_r = 0\n",
    "        max_g = 0\n",
    "        max_b = 0\n",
    "    \n",
    "        for ref in refs:\n",
    "            if ref[0] < min_r:\n",
    "                min_r = ref[0]\n",
    "        \n",
    "            if ref[1] < min_g:\n",
    "                min_g = ref[1]\n",
    "        \n",
    "            if ref[2] < min_b:\n",
    "                min_b = ref[2]\n",
    "            \n",
    "            if ref[0] > max_r:\n",
    "                max_r = ref[0]\n",
    "        \n",
    "            if ref[1] > max_g:\n",
    "                max_g = ref[1]\n",
    "        \n",
    "            if ref[2] > max_b:\n",
    "                max_b = ref[2]\n",
    "            \n",
    "        for row in im_array:\n",
    "            for pixel in row:\n",
    "                if pixel[2] <= max_b and pixel[2] >= min_b and pixel[0] >= min_r and pixel[0] =< max_r and pixel[1] >= min_g and pixel[1] <= max_g:\n",
    "                    pixel[0] = 0\n",
    "                    pixel[1] = 0\n",
    "                    pixel[2] = 245\n",
    "                \n",
    "    \n",
    "    im = Image.fromarray(im_array)\n",
    "    im.save(year + \"processed.jpg\")"
   ]
  },
  {
   "cell_type": "code",
   "execution_count": 7,
   "metadata": {},
   "outputs": [
    {
     "name": "stdout",
     "output_type": "stream",
     "text": [
      "(3251, 4800, 3)\n"
     ]
    }
   ],
   "source": [
    "year = \"2000.jpg\"\n",
    "im_array = np.array(sat_images[year])\n",
    "print(im_array.shape)"
   ]
  },
  {
   "cell_type": "code",
   "execution_count": null,
   "metadata": {},
   "outputs": [],
   "source": [
    "\n",
    "\n",
    "\n",
    "\n",
    "\n",
    "\n",
    "\n",
    "\n",
    "\n"
   ]
  }
 ],
 "metadata": {
  "kernelspec": {
   "display_name": "Python 3",
   "language": "python",
   "name": "python3"
  },
  "language_info": {
   "codemirror_mode": {
    "name": "ipython",
    "version": 3
   },
   "file_extension": ".py",
   "mimetype": "text/x-python",
   "name": "python",
   "nbconvert_exporter": "python",
   "pygments_lexer": "ipython3",
   "version": "3.7.1"
  }
 },
 "nbformat": 4,
 "nbformat_minor": 2
}
